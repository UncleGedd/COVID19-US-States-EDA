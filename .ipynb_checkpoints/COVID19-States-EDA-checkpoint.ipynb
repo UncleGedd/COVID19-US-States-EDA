{
 "cells": [
  {
   "cell_type": "code",
   "execution_count": 1,
   "metadata": {},
   "outputs": [],
   "source": [
    "import numpy as np\n",
    "import pandas as pd\n",
    "import urllib.request, json "
   ]
  },
  {
   "cell_type": "code",
   "execution_count": 2,
   "metadata": {},
   "outputs": [
    {
     "data": {
      "text/html": [
       "<div>\n",
       "<style scoped>\n",
       "    .dataframe tbody tr th:only-of-type {\n",
       "        vertical-align: middle;\n",
       "    }\n",
       "\n",
       "    .dataframe tbody tr th {\n",
       "        vertical-align: top;\n",
       "    }\n",
       "\n",
       "    .dataframe thead th {\n",
       "        text-align: right;\n",
       "    }\n",
       "</style>\n",
       "<table border=\"1\" class=\"dataframe\">\n",
       "  <thead>\n",
       "    <tr style=\"text-align: right;\">\n",
       "      <th></th>\n",
       "      <th>State</th>\n",
       "      <th>Infected</th>\n",
       "      <th>Deaths</th>\n",
       "    </tr>\n",
       "  </thead>\n",
       "  <tbody>\n",
       "    <tr>\n",
       "      <th>1335</th>\n",
       "      <td>Alabama</td>\n",
       "      <td>639</td>\n",
       "      <td>4</td>\n",
       "    </tr>\n",
       "    <tr>\n",
       "      <th>1336</th>\n",
       "      <td>Alaska</td>\n",
       "      <td>85</td>\n",
       "      <td>1</td>\n",
       "    </tr>\n",
       "    <tr>\n",
       "      <th>1337</th>\n",
       "      <td>Arizona</td>\n",
       "      <td>665</td>\n",
       "      <td>15</td>\n",
       "    </tr>\n",
       "  </tbody>\n",
       "</table>\n",
       "</div>"
      ],
      "text/plain": [
       "        State  Infected  Deaths\n",
       "1335  Alabama       639       4\n",
       "1336   Alaska        85       1\n",
       "1337  Arizona       665      15"
      ]
     },
     "execution_count": 2,
     "metadata": {},
     "output_type": "execute_result"
    }
   ],
   "source": [
    "df = pd.read_csv('./us-states.csv')\n",
    "df = df[df.date == max(df.date)]\n",
    "df = df[(df.state != 'Guam') & (df.state != 'Puerto Rico') & (df.state != 'Virgin Islands')]\n",
    "df.drop(['fips', 'date'], axis=1, inplace=True)\n",
    "df.columns = ['State', 'Infected', 'Deaths']\n",
    "df.head(3)"
   ]
  },
  {
   "cell_type": "markdown",
   "metadata": {},
   "source": [
    "### Live Testing data\n",
    "(could maybe use this data for number of infections and deaths per state)  \n",
    "http://coronavirusapi.com/states.csv"
   ]
  },
  {
   "cell_type": "code",
   "execution_count": 3,
   "metadata": {},
   "outputs": [],
   "source": [
    "states = {\n",
    "        'AK': 'Alaska',\n",
    "        'AL': 'Alabama',\n",
    "        'AR': 'Arkansas',\n",
    "        'AZ': 'Arizona',\n",
    "        'CA': 'California',\n",
    "        'CO': 'Colorado',\n",
    "        'CT': 'Connecticut',\n",
    "        'DC': 'District of Columbia',\n",
    "        'DE': 'Delaware',\n",
    "        'FL': 'Florida',\n",
    "        'GA': 'Georgia',\n",
    "        'GU': 'Guam',\n",
    "        'HI': 'Hawaii',\n",
    "        'IA': 'Iowa',\n",
    "        'ID': 'Idaho',\n",
    "        'IL': 'Illinois',\n",
    "        'IN': 'Indiana',\n",
    "        'KS': 'Kansas',\n",
    "        'KY': 'Kentucky',\n",
    "        'LA': 'Louisiana',\n",
    "        'MA': 'Massachusetts',\n",
    "        'MD': 'Maryland',\n",
    "        'ME': 'Maine',\n",
    "        'MI': 'Michigan',\n",
    "        'MN': 'Minnesota',\n",
    "        'MO': 'Missouri',\n",
    "        'MS': 'Mississippi',\n",
    "        'MT': 'Montana',\n",
    "        'NA': 'National',\n",
    "        'NC': 'North Carolina',\n",
    "        'ND': 'North Dakota',\n",
    "        'NE': 'Nebraska',\n",
    "        'NH': 'New Hampshire',\n",
    "        'NJ': 'New Jersey',\n",
    "        'NM': 'New Mexico',\n",
    "        'NV': 'Nevada',\n",
    "        'NY': 'New York',\n",
    "        'OH': 'Ohio',\n",
    "        'OK': 'Oklahoma',\n",
    "        'OR': 'Oregon',\n",
    "        'PA': 'Pennsylvania',\n",
    "        'RI': 'Rhode Island',\n",
    "        'SC': 'South Carolina',\n",
    "        'SD': 'South Dakota',\n",
    "        'TN': 'Tennessee',\n",
    "        'TX': 'Texas',\n",
    "        'UT': 'Utah',\n",
    "        'VA': 'Virginia',\n",
    "        'VT': 'Vermont',\n",
    "        'WA': 'Washington',\n",
    "        'WI': 'Wisconsin',\n",
    "        'WV': 'West Virginia',\n",
    "        'WY': 'Wyoming'\n",
    "}"
   ]
  },
  {
   "cell_type": "code",
   "execution_count": 4,
   "metadata": {},
   "outputs": [
    {
     "data": {
      "text/html": [
       "<div>\n",
       "<style scoped>\n",
       "    .dataframe tbody tr th:only-of-type {\n",
       "        vertical-align: middle;\n",
       "    }\n",
       "\n",
       "    .dataframe tbody tr th {\n",
       "        vertical-align: top;\n",
       "    }\n",
       "\n",
       "    .dataframe thead th {\n",
       "        text-align: right;\n",
       "    }\n",
       "</style>\n",
       "<table border=\"1\" class=\"dataframe\">\n",
       "  <thead>\n",
       "    <tr style=\"text-align: right;\">\n",
       "      <th></th>\n",
       "      <th>State</th>\n",
       "      <th>Tested</th>\n",
       "    </tr>\n",
       "  </thead>\n",
       "  <tbody>\n",
       "    <tr>\n",
       "      <th>0</th>\n",
       "      <td>Alaska</td>\n",
       "      <td>3334</td>\n",
       "    </tr>\n",
       "    <tr>\n",
       "      <th>1</th>\n",
       "      <td>Alabama</td>\n",
       "      <td>4755</td>\n",
       "    </tr>\n",
       "    <tr>\n",
       "      <th>2</th>\n",
       "      <td>Arkansas</td>\n",
       "      <td>3398</td>\n",
       "    </tr>\n",
       "  </tbody>\n",
       "</table>\n",
       "</div>"
      ],
      "text/plain": [
       "      State  Tested\n",
       "0    Alaska    3334\n",
       "1   Alabama    4755\n",
       "2  Arkansas    3398"
      ]
     },
     "execution_count": 4,
     "metadata": {},
     "output_type": "execute_result"
    }
   ],
   "source": [
    "df_test = pd.read_csv('http://coronavirusapi.com/states.csv')\n",
    "df_test['name,'] = df_test['name,'].apply(lambda r: states[r])\n",
    "df_test = df_test[['name,', 'tested']]\n",
    "df_test.columns = ['State', 'Tested']\n",
    "df_test.head(3)"
   ]
  },
  {
   "cell_type": "code",
   "execution_count": 5,
   "metadata": {},
   "outputs": [],
   "source": [
    "df = df.merge(df_test, on='State', how='inner')"
   ]
  },
  {
   "cell_type": "markdown",
   "metadata": {},
   "source": [
    "### Gini coefficient"
   ]
  },
  {
   "cell_type": "code",
   "execution_count": 6,
   "metadata": {},
   "outputs": [],
   "source": [
    "df = df.merge(pd.read_csv('./predictor_data/gini.csv'), on='State', how='inner')"
   ]
  },
  {
   "cell_type": "markdown",
   "metadata": {},
   "source": [
    "### Total Population, ICU beds, percentage and amount age 60+"
   ]
  },
  {
   "cell_type": "code",
   "execution_count": 7,
   "metadata": {},
   "outputs": [
    {
     "data": {
      "text/html": [
       "<div>\n",
       "<style scoped>\n",
       "    .dataframe tbody tr th:only-of-type {\n",
       "        vertical-align: middle;\n",
       "    }\n",
       "\n",
       "    .dataframe tbody tr th {\n",
       "        vertical-align: top;\n",
       "    }\n",
       "\n",
       "    .dataframe thead th {\n",
       "        text-align: right;\n",
       "    }\n",
       "</style>\n",
       "<table border=\"1\" class=\"dataframe\">\n",
       "  <thead>\n",
       "    <tr style=\"text-align: right;\">\n",
       "      <th></th>\n",
       "      <th>State</th>\n",
       "      <th>ICU Beds</th>\n",
       "      <th>Total Population</th>\n",
       "      <th>60plus</th>\n",
       "      <th>60plus per bed</th>\n",
       "      <th>60plus pct pop</th>\n",
       "    </tr>\n",
       "  </thead>\n",
       "  <tbody>\n",
       "    <tr>\n",
       "      <th>0</th>\n",
       "      <td>Alabama</td>\n",
       "      <td>1533</td>\n",
       "      <td>4850771</td>\n",
       "      <td>1065625</td>\n",
       "      <td>53854.0</td>\n",
       "      <td>0.219682</td>\n",
       "    </tr>\n",
       "    <tr>\n",
       "      <th>1</th>\n",
       "      <td>Alaska</td>\n",
       "      <td>119</td>\n",
       "      <td>738565</td>\n",
       "      <td>117047</td>\n",
       "      <td>6424.0</td>\n",
       "      <td>0.158479</td>\n",
       "    </tr>\n",
       "    <tr>\n",
       "      <th>2</th>\n",
       "      <td>Arizona</td>\n",
       "      <td>1559</td>\n",
       "      <td>6809946</td>\n",
       "      <td>1502688</td>\n",
       "      <td>21304.0</td>\n",
       "      <td>0.220661</td>\n",
       "    </tr>\n",
       "  </tbody>\n",
       "</table>\n",
       "</div>"
      ],
      "text/plain": [
       "     State  ICU Beds  Total Population   60plus  60plus per bed  \\\n",
       "0  Alabama      1533           4850771  1065625         53854.0   \n",
       "1   Alaska       119            738565   117047          6424.0   \n",
       "2  Arizona      1559           6809946  1502688         21304.0   \n",
       "\n",
       "   60plus pct pop  \n",
       "0        0.219682  \n",
       "1        0.158479  \n",
       "2        0.220661  "
      ]
     },
     "execution_count": 7,
     "metadata": {},
     "output_type": "execute_result"
    }
   ],
   "source": [
    "cols_of_interest = ['state', 'Total_pop', 'all_icu', '60plus', '60plus_per_each_icu_bed']\n",
    "df_icu = pd.read_excel('./predictor_data/icu_beds.xlsx', usecols=cols_of_interest)\n",
    "df_icu = df_icu.groupby('state').sum().reset_index()\n",
    "df_icu['60plus_pct'] = df_icu['60plus'] / df_icu['Total_pop']\n",
    "df_icu.columns = ['State', 'ICU Beds', 'Total Population', '60plus', '60plus per bed', '60plus pct pop']\n",
    "df_icu.head(3)"
   ]
  },
  {
   "cell_type": "code",
   "execution_count": 8,
   "metadata": {},
   "outputs": [],
   "source": [
    "df = df.merge(df_icu, on='State', how='inner')"
   ]
  },
  {
   "cell_type": "markdown",
   "metadata": {},
   "source": [
    "### Income per capita"
   ]
  },
  {
   "cell_type": "code",
   "execution_count": 9,
   "metadata": {},
   "outputs": [
    {
     "data": {
      "text/plain": [
       "(51, 11)"
      ]
     },
     "execution_count": 9,
     "metadata": {},
     "output_type": "execute_result"
    }
   ],
   "source": [
    "df = df.merge(pd.read_csv('./predictor_data/income_per_capita.csv'), on='State', how='inner')\n",
    "df.shape"
   ]
  },
  {
   "cell_type": "markdown",
   "metadata": {},
   "source": [
    "### GDP"
   ]
  },
  {
   "cell_type": "code",
   "execution_count": 10,
   "metadata": {},
   "outputs": [],
   "source": [
    "df = df.merge(pd.read_csv('./predictor_data/state_gdp.csv'), on='State', how='inner')"
   ]
  },
  {
   "cell_type": "markdown",
   "metadata": {},
   "source": [
    "### Unemployment"
   ]
  },
  {
   "cell_type": "code",
   "execution_count": 11,
   "metadata": {},
   "outputs": [],
   "source": [
    "df = df.merge(pd.read_csv('./predictor_data/unemployment.csv'), on='State', how='inner')"
   ]
  },
  {
   "cell_type": "markdown",
   "metadata": {},
   "source": [
    "### Sex"
   ]
  },
  {
   "cell_type": "code",
   "execution_count": 12,
   "metadata": {},
   "outputs": [],
   "source": [
    "df_sex = pd.read_csv('./predictor_data/sex.csv')\n",
    "df_sex['Sex Ratio'] = df_sex.Male / df_sex.Female \n",
    "df_sex = df_sex[['Location', 'Sex Ratio']]\n",
    "df_sex.columns = ['State', 'Sex Ratio']"
   ]
  },
  {
   "cell_type": "code",
   "execution_count": 13,
   "metadata": {},
   "outputs": [],
   "source": [
    "df = df.merge(df_sex, on='State', how='inner')"
   ]
  },
  {
   "cell_type": "markdown",
   "metadata": {},
   "source": [
    "### Smoking"
   ]
  },
  {
   "cell_type": "code",
   "execution_count": 14,
   "metadata": {},
   "outputs": [],
   "source": [
    "df_smoke = pd.read_csv('./predictor_data/smoking.csv')\n",
    "df_smoke.columns = ['State', 'Smoking Rate']"
   ]
  },
  {
   "cell_type": "code",
   "execution_count": 15,
   "metadata": {},
   "outputs": [],
   "source": [
    "df = df.merge(df_smoke, on='State', how='inner')"
   ]
  },
  {
   "cell_type": "markdown",
   "metadata": {},
   "source": [
    "### Median Age"
   ]
  },
  {
   "cell_type": "code",
   "execution_count": 16,
   "metadata": {},
   "outputs": [],
   "source": [
    "df_age = pd.read_csv('./predictor_data/age.csv')\n",
    "df_age = df_age[['State', 'MedianAge', 'MedianAgeMale', 'MedianAgeFemale']]\n",
    "df_age.columns = ['State', 'Median Age','Median Age M', 'Median Age F']"
   ]
  },
  {
   "cell_type": "code",
   "execution_count": 17,
   "metadata": {},
   "outputs": [],
   "source": [
    "df = df.merge(df_age, on='State', how='inner')"
   ]
  },
  {
   "cell_type": "markdown",
   "metadata": {},
   "source": [
    "### Flu and Pneumonia"
   ]
  },
  {
   "cell_type": "code",
   "execution_count": 18,
   "metadata": {},
   "outputs": [],
   "source": [
    "df_flu = pd.read_csv('./predictor_data/Influenza_Pneumonia Mortality by State.csv')\n",
    "df_flu = df_flu[df_flu.YEAR == 2018]\n",
    "df_flu = df_flu[['STATE', 'RATE']]\n",
    "df_flu.columns = ['State', 'Flu Deaths']\n",
    "df_flu['State'] = df_flu['State'].apply(lambda r: states[r])\n",
    "dc_df = pd.DataFrame([['District of Columbia', 11.2]], columns=['State', 'Flu Deaths']) # https://www.kff.org/other/state-indicator/influenza-and-pneumonia-death-rate/\n",
    "df_flu = df_flu.append(dc_df, ignore_index=True)"
   ]
  },
  {
   "cell_type": "code",
   "execution_count": 19,
   "metadata": {},
   "outputs": [],
   "source": [
    "df = df.merge(df_flu, on='State', how='inner')"
   ]
  },
  {
   "cell_type": "markdown",
   "metadata": {},
   "source": [
    "### Chronic Lower Respiratory Disease Death Rate"
   ]
  },
  {
   "cell_type": "code",
   "execution_count": 20,
   "metadata": {},
   "outputs": [],
   "source": [
    "df_resp = pd.read_csv('./predictor_data/Chronic Lower Respiratory Disease Mortality by State.csv')\n",
    "df_resp = df_resp[df_resp.YEAR == 2018]\n",
    "df_resp = df_resp[['STATE', 'RATE']]\n",
    "df_resp.columns = ['State', 'Respiratory Deaths']\n",
    "df_resp['State'] = df_resp['State'].apply(lambda r: states[r])\n",
    "dc_df = pd.DataFrame([['District of Columbia', 19.6]], columns=['State', 'Respiratory Deaths']) # https://www.cdc.gov/nchs/pressroom/states/dc/dc.htm\n",
    "df_resp = df_resp.append(dc_df, ignore_index=True)"
   ]
  },
  {
   "cell_type": "code",
   "execution_count": 21,
   "metadata": {},
   "outputs": [],
   "source": [
    "df = df.merge(df_resp, on='State', how='inner')"
   ]
  },
  {
   "cell_type": "markdown",
   "metadata": {},
   "source": [
    "### Doctors"
   ]
  },
  {
   "cell_type": "code",
   "execution_count": 22,
   "metadata": {},
   "outputs": [],
   "source": [
    "df_doc = pd.read_csv('./predictor_data/doctors.csv')\n",
    "df_doc = df_doc[['Location', 'Total']]\n",
    "df_doc.columns = ['State', 'Physicians']"
   ]
  },
  {
   "cell_type": "code",
   "execution_count": 23,
   "metadata": {},
   "outputs": [],
   "source": [
    "df = df.merge(df_doc, on='State', how='inner')"
   ]
  },
  {
   "cell_type": "markdown",
   "metadata": {},
   "source": [
    "### Number Hospitals"
   ]
  },
  {
   "cell_type": "code",
   "execution_count": 24,
   "metadata": {},
   "outputs": [],
   "source": [
    "df_hosp = pd.read_csv('./predictor_data/hospitals.csv')\n",
    "df_hosp.columns = ['State', 'Hospitals']"
   ]
  },
  {
   "cell_type": "code",
   "execution_count": 25,
   "metadata": {},
   "outputs": [],
   "source": [
    "df = df.merge(df_hosp, on='State', how='inner')"
   ]
  },
  {
   "cell_type": "markdown",
   "metadata": {},
   "source": [
    "### Pollution"
   ]
  },
  {
   "cell_type": "code",
   "execution_count": 26,
   "metadata": {},
   "outputs": [],
   "source": [
    "pollution_url = 'https://www.americashealthrankings.org/api/v1/measures/metrics/201?measure_id=147'\n",
    "with urllib.request.urlopen(pollution_url) as url:\n",
    "    data = json.loads(url.read().decode())\n",
    "pollution = [{'State': states[i['StateCode']], 'Pollution':float(i['Value'])} for i in data['items'] if i['StateCode'] != 'ALL']\n",
    "df_pol = pd.DataFrame(pollution)"
   ]
  },
  {
   "cell_type": "code",
   "execution_count": 27,
   "metadata": {},
   "outputs": [],
   "source": [
    "df = df.merge(df_pol, on='State', how='inner')"
   ]
  },
  {
   "cell_type": "markdown",
   "metadata": {},
   "source": [
    "### Airport"
   ]
  },
  {
   "cell_type": "code",
   "execution_count": null,
   "metadata": {},
   "outputs": [],
   "source": []
  },
  {
   "cell_type": "markdown",
   "metadata": {},
   "source": [
    "### "
   ]
  },
  {
   "cell_type": "code",
   "execution_count": 28,
   "metadata": {},
   "outputs": [
    {
     "data": {
      "text/html": [
       "<div>\n",
       "<style scoped>\n",
       "    .dataframe tbody tr th:only-of-type {\n",
       "        vertical-align: middle;\n",
       "    }\n",
       "\n",
       "    .dataframe tbody tr th {\n",
       "        vertical-align: top;\n",
       "    }\n",
       "\n",
       "    .dataframe thead th {\n",
       "        text-align: right;\n",
       "    }\n",
       "</style>\n",
       "<table border=\"1\" class=\"dataframe\">\n",
       "  <thead>\n",
       "    <tr style=\"text-align: right;\">\n",
       "      <th></th>\n",
       "      <th>State</th>\n",
       "      <th>Infected</th>\n",
       "      <th>Deaths</th>\n",
       "      <th>Tested</th>\n",
       "      <th>Gini</th>\n",
       "      <th>ICU Beds</th>\n",
       "      <th>Total Population</th>\n",
       "      <th>60plus</th>\n",
       "      <th>60plus per bed</th>\n",
       "      <th>60plus pct pop</th>\n",
       "      <th>...</th>\n",
       "      <th>Sex Ratio</th>\n",
       "      <th>Smoking Rate</th>\n",
       "      <th>Median Age</th>\n",
       "      <th>Median Age M</th>\n",
       "      <th>Median Age F</th>\n",
       "      <th>Flu Deaths</th>\n",
       "      <th>Respiratory Deaths</th>\n",
       "      <th>Physicians</th>\n",
       "      <th>Hospitals</th>\n",
       "      <th>Pollution</th>\n",
       "    </tr>\n",
       "  </thead>\n",
       "  <tbody>\n",
       "    <tr>\n",
       "      <th>0</th>\n",
       "      <td>Alabama</td>\n",
       "      <td>639</td>\n",
       "      <td>4</td>\n",
       "      <td>4755</td>\n",
       "      <td>0.4847</td>\n",
       "      <td>1533</td>\n",
       "      <td>4850771</td>\n",
       "      <td>1065625</td>\n",
       "      <td>53854.0</td>\n",
       "      <td>0.219682</td>\n",
       "      <td>...</td>\n",
       "      <td>0.930145</td>\n",
       "      <td>20.9</td>\n",
       "      <td>38.9</td>\n",
       "      <td>37.4</td>\n",
       "      <td>40.3</td>\n",
       "      <td>21.4</td>\n",
       "      <td>58.0</td>\n",
       "      <td>12205</td>\n",
       "      <td>101</td>\n",
       "      <td>8.1</td>\n",
       "    </tr>\n",
       "    <tr>\n",
       "      <th>1</th>\n",
       "      <td>Alaska</td>\n",
       "      <td>85</td>\n",
       "      <td>1</td>\n",
       "      <td>3334</td>\n",
       "      <td>0.4081</td>\n",
       "      <td>119</td>\n",
       "      <td>738565</td>\n",
       "      <td>117047</td>\n",
       "      <td>6424.0</td>\n",
       "      <td>0.158479</td>\n",
       "      <td>...</td>\n",
       "      <td>1.054688</td>\n",
       "      <td>21.0</td>\n",
       "      <td>34.0</td>\n",
       "      <td>33.6</td>\n",
       "      <td>34.5</td>\n",
       "      <td>12.1</td>\n",
       "      <td>35.3</td>\n",
       "      <td>1900</td>\n",
       "      <td>21</td>\n",
       "      <td>6.4</td>\n",
       "    </tr>\n",
       "    <tr>\n",
       "      <th>2</th>\n",
       "      <td>Arizona</td>\n",
       "      <td>665</td>\n",
       "      <td>15</td>\n",
       "      <td>1164</td>\n",
       "      <td>0.4713</td>\n",
       "      <td>1559</td>\n",
       "      <td>6809946</td>\n",
       "      <td>1502688</td>\n",
       "      <td>21304.0</td>\n",
       "      <td>0.220661</td>\n",
       "      <td>...</td>\n",
       "      <td>0.966965</td>\n",
       "      <td>15.6</td>\n",
       "      <td>37.4</td>\n",
       "      <td>36.1</td>\n",
       "      <td>38.7</td>\n",
       "      <td>12.4</td>\n",
       "      <td>41.2</td>\n",
       "      <td>17806</td>\n",
       "      <td>83</td>\n",
       "      <td>9.7</td>\n",
       "    </tr>\n",
       "    <tr>\n",
       "      <th>3</th>\n",
       "      <td>Arkansas</td>\n",
       "      <td>386</td>\n",
       "      <td>3</td>\n",
       "      <td>3398</td>\n",
       "      <td>0.4719</td>\n",
       "      <td>732</td>\n",
       "      <td>2977944</td>\n",
       "      <td>655552</td>\n",
       "      <td>27536.0</td>\n",
       "      <td>0.220136</td>\n",
       "      <td>...</td>\n",
       "      <td>0.956630</td>\n",
       "      <td>22.3</td>\n",
       "      <td>37.9</td>\n",
       "      <td>36.6</td>\n",
       "      <td>39.3</td>\n",
       "      <td>18.0</td>\n",
       "      <td>61.7</td>\n",
       "      <td>7150</td>\n",
       "      <td>88</td>\n",
       "      <td>7.1</td>\n",
       "    </tr>\n",
       "    <tr>\n",
       "      <th>4</th>\n",
       "      <td>California</td>\n",
       "      <td>4914</td>\n",
       "      <td>102</td>\n",
       "      <td>89600</td>\n",
       "      <td>0.4899</td>\n",
       "      <td>7338</td>\n",
       "      <td>38982847</td>\n",
       "      <td>7292299</td>\n",
       "      <td>68758.0</td>\n",
       "      <td>0.187064</td>\n",
       "      <td>...</td>\n",
       "      <td>0.975113</td>\n",
       "      <td>11.3</td>\n",
       "      <td>36.3</td>\n",
       "      <td>35.2</td>\n",
       "      <td>37.5</td>\n",
       "      <td>15.6</td>\n",
       "      <td>30.9</td>\n",
       "      <td>112906</td>\n",
       "      <td>359</td>\n",
       "      <td>12.8</td>\n",
       "    </tr>\n",
       "  </tbody>\n",
       "</table>\n",
       "<p>5 rows × 23 columns</p>\n",
       "</div>"
      ],
      "text/plain": [
       "        State  Infected  Deaths  Tested    Gini  ICU Beds  Total Population  \\\n",
       "0     Alabama       639       4    4755  0.4847      1533           4850771   \n",
       "1      Alaska        85       1    3334  0.4081       119            738565   \n",
       "2     Arizona       665      15    1164  0.4713      1559           6809946   \n",
       "3    Arkansas       386       3    3398  0.4719       732           2977944   \n",
       "4  California      4914     102   89600  0.4899      7338          38982847   \n",
       "\n",
       "    60plus  60plus per bed  60plus pct pop  ...  Sex Ratio  Smoking Rate  \\\n",
       "0  1065625         53854.0        0.219682  ...   0.930145          20.9   \n",
       "1   117047          6424.0        0.158479  ...   1.054688          21.0   \n",
       "2  1502688         21304.0        0.220661  ...   0.966965          15.6   \n",
       "3   655552         27536.0        0.220136  ...   0.956630          22.3   \n",
       "4  7292299         68758.0        0.187064  ...   0.975113          11.3   \n",
       "\n",
       "   Median Age  Median Age M  Median Age F  Flu Deaths  Respiratory Deaths  \\\n",
       "0        38.9          37.4          40.3        21.4                58.0   \n",
       "1        34.0          33.6          34.5        12.1                35.3   \n",
       "2        37.4          36.1          38.7        12.4                41.2   \n",
       "3        37.9          36.6          39.3        18.0                61.7   \n",
       "4        36.3          35.2          37.5        15.6                30.9   \n",
       "\n",
       "   Physicians  Hospitals  Pollution  \n",
       "0       12205        101        8.1  \n",
       "1        1900         21        6.4  \n",
       "2       17806         83        9.7  \n",
       "3        7150         88        7.1  \n",
       "4      112906        359       12.8  \n",
       "\n",
       "[5 rows x 23 columns]"
      ]
     },
     "execution_count": 28,
     "metadata": {},
     "output_type": "execute_result"
    }
   ],
   "source": [
    "df.to_csv('COVID19_state.csv', index=False)\n",
    "df.head()"
   ]
  }
 ],
 "metadata": {
  "kernelspec": {
   "display_name": "Python 3",
   "language": "python",
   "name": "python3"
  },
  "language_info": {
   "codemirror_mode": {
    "name": "ipython",
    "version": 3
   },
   "file_extension": ".py",
   "mimetype": "text/x-python",
   "name": "python",
   "nbconvert_exporter": "python",
   "pygments_lexer": "ipython3",
   "version": "3.7.7"
  }
 },
 "nbformat": 4,
 "nbformat_minor": 4
}
