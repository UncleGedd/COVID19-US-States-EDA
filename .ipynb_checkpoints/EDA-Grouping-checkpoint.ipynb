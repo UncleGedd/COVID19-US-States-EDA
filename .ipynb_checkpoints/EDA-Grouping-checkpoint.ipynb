{
 "cells": [
  {
   "cell_type": "code",
   "execution_count": 25,
   "metadata": {},
   "outputs": [],
   "source": [
    "import numpy as np\n",
    "import pandas as pd\n",
    "import matplotlib.pyplot as plt\n",
    "import seaborn as sns\n",
    "from sklearn.preprocessing import RobustScaler\n",
    "import xgboost as xgb\n",
    "import statsmodels.api as sm\n",
    "from sklearn.ensemble import RandomForestRegressor"
   ]
  },
  {
   "cell_type": "code",
   "execution_count": 53,
   "metadata": {},
   "outputs": [
    {
     "data": {
      "text/html": [
       "<div>\n",
       "<style scoped>\n",
       "    .dataframe tbody tr th:only-of-type {\n",
       "        vertical-align: middle;\n",
       "    }\n",
       "\n",
       "    .dataframe tbody tr th {\n",
       "        vertical-align: top;\n",
       "    }\n",
       "\n",
       "    .dataframe thead th {\n",
       "        text-align: right;\n",
       "    }\n",
       "</style>\n",
       "<table border=\"1\" class=\"dataframe\">\n",
       "  <thead>\n",
       "    <tr style=\"text-align: right;\">\n",
       "      <th></th>\n",
       "      <th>State</th>\n",
       "      <th>Tested</th>\n",
       "      <th>Infected</th>\n",
       "      <th>Deaths</th>\n",
       "      <th>Population</th>\n",
       "      <th>Pop Density</th>\n",
       "      <th>Gini</th>\n",
       "      <th>ICU Beds</th>\n",
       "      <th>Income Per Capita</th>\n",
       "      <th>GDP Per Capita</th>\n",
       "      <th>...</th>\n",
       "      <th>Physicians</th>\n",
       "      <th>Hospitals</th>\n",
       "      <th>Health Spending</th>\n",
       "      <th>Pollution</th>\n",
       "      <th>Med-Large Airports</th>\n",
       "      <th>Avg Temp</th>\n",
       "      <th>Urban</th>\n",
       "      <th>Age 0-25</th>\n",
       "      <th>Age 26-54</th>\n",
       "      <th>Age 55+</th>\n",
       "    </tr>\n",
       "  </thead>\n",
       "  <tbody>\n",
       "    <tr>\n",
       "      <th>0</th>\n",
       "      <td>Alaska</td>\n",
       "      <td>3334</td>\n",
       "      <td>114</td>\n",
       "      <td>3.0</td>\n",
       "      <td>734002</td>\n",
       "      <td>1.2863</td>\n",
       "      <td>0.4081</td>\n",
       "      <td>119</td>\n",
       "      <td>59687</td>\n",
       "      <td>73205</td>\n",
       "      <td>...</td>\n",
       "      <td>1900</td>\n",
       "      <td>21</td>\n",
       "      <td>11064</td>\n",
       "      <td>6.4</td>\n",
       "      <td>1.0</td>\n",
       "      <td>26.6</td>\n",
       "      <td>66.0</td>\n",
       "      <td>0.36</td>\n",
       "      <td>0.39</td>\n",
       "      <td>0.25</td>\n",
       "    </tr>\n",
       "    <tr>\n",
       "      <th>1</th>\n",
       "      <td>Alabama</td>\n",
       "      <td>4755</td>\n",
       "      <td>830</td>\n",
       "      <td>4.0</td>\n",
       "      <td>4908621</td>\n",
       "      <td>96.9221</td>\n",
       "      <td>0.4847</td>\n",
       "      <td>1533</td>\n",
       "      <td>42334</td>\n",
       "      <td>45219</td>\n",
       "      <td>...</td>\n",
       "      <td>12205</td>\n",
       "      <td>101</td>\n",
       "      <td>7281</td>\n",
       "      <td>8.1</td>\n",
       "      <td>1.0</td>\n",
       "      <td>62.8</td>\n",
       "      <td>59.0</td>\n",
       "      <td>0.33</td>\n",
       "      <td>0.37</td>\n",
       "      <td>0.31</td>\n",
       "    </tr>\n",
       "    <tr>\n",
       "      <th>2</th>\n",
       "      <td>Arkansas</td>\n",
       "      <td>3536</td>\n",
       "      <td>449</td>\n",
       "      <td>6.0</td>\n",
       "      <td>3038999</td>\n",
       "      <td>58.4030</td>\n",
       "      <td>0.4719</td>\n",
       "      <td>732</td>\n",
       "      <td>42566</td>\n",
       "      <td>42454</td>\n",
       "      <td>...</td>\n",
       "      <td>7150</td>\n",
       "      <td>88</td>\n",
       "      <td>7408</td>\n",
       "      <td>7.1</td>\n",
       "      <td>0.0</td>\n",
       "      <td>60.4</td>\n",
       "      <td>56.2</td>\n",
       "      <td>0.34</td>\n",
       "      <td>0.37</td>\n",
       "      <td>0.30</td>\n",
       "    </tr>\n",
       "    <tr>\n",
       "      <th>3</th>\n",
       "      <td>Arizona</td>\n",
       "      <td>1303</td>\n",
       "      <td>912</td>\n",
       "      <td>16.0</td>\n",
       "      <td>7378494</td>\n",
       "      <td>64.9550</td>\n",
       "      <td>0.4713</td>\n",
       "      <td>1559</td>\n",
       "      <td>43650</td>\n",
       "      <td>48055</td>\n",
       "      <td>...</td>\n",
       "      <td>17806</td>\n",
       "      <td>83</td>\n",
       "      <td>6452</td>\n",
       "      <td>9.7</td>\n",
       "      <td>1.0</td>\n",
       "      <td>60.3</td>\n",
       "      <td>89.8</td>\n",
       "      <td>0.33</td>\n",
       "      <td>0.36</td>\n",
       "      <td>0.30</td>\n",
       "    </tr>\n",
       "    <tr>\n",
       "      <th>4</th>\n",
       "      <td>California</td>\n",
       "      <td>89600</td>\n",
       "      <td>4643</td>\n",
       "      <td>101.0</td>\n",
       "      <td>39937489</td>\n",
       "      <td>256.3727</td>\n",
       "      <td>0.4899</td>\n",
       "      <td>7338</td>\n",
       "      <td>62586</td>\n",
       "      <td>74205</td>\n",
       "      <td>...</td>\n",
       "      <td>112906</td>\n",
       "      <td>359</td>\n",
       "      <td>7549</td>\n",
       "      <td>12.8</td>\n",
       "      <td>9.0</td>\n",
       "      <td>59.4</td>\n",
       "      <td>95.0</td>\n",
       "      <td>0.33</td>\n",
       "      <td>0.40</td>\n",
       "      <td>0.26</td>\n",
       "    </tr>\n",
       "  </tbody>\n",
       "</table>\n",
       "<p>5 rows × 25 columns</p>\n",
       "</div>"
      ],
      "text/plain": [
       "        State  Tested  Infected  Deaths  Population  Pop Density    Gini  \\\n",
       "0      Alaska    3334       114     3.0      734002       1.2863  0.4081   \n",
       "1     Alabama    4755       830     4.0     4908621      96.9221  0.4847   \n",
       "2    Arkansas    3536       449     6.0     3038999      58.4030  0.4719   \n",
       "3     Arizona    1303       912    16.0     7378494      64.9550  0.4713   \n",
       "4  California   89600      4643   101.0    39937489     256.3727  0.4899   \n",
       "\n",
       "   ICU Beds  Income Per Capita  GDP Per Capita  ...  Physicians  Hospitals  \\\n",
       "0       119              59687           73205  ...        1900         21   \n",
       "1      1533              42334           45219  ...       12205        101   \n",
       "2       732              42566           42454  ...        7150         88   \n",
       "3      1559              43650           48055  ...       17806         83   \n",
       "4      7338              62586           74205  ...      112906        359   \n",
       "\n",
       "   Health Spending  Pollution  Med-Large Airports  Avg Temp  Urban  Age 0-25  \\\n",
       "0            11064        6.4                 1.0      26.6   66.0      0.36   \n",
       "1             7281        8.1                 1.0      62.8   59.0      0.33   \n",
       "2             7408        7.1                 0.0      60.4   56.2      0.34   \n",
       "3             6452        9.7                 1.0      60.3   89.8      0.33   \n",
       "4             7549       12.8                 9.0      59.4   95.0      0.33   \n",
       "\n",
       "   Age 26-54  Age 55+  \n",
       "0       0.39     0.25  \n",
       "1       0.37     0.31  \n",
       "2       0.37     0.30  \n",
       "3       0.36     0.30  \n",
       "4       0.40     0.26  \n",
       "\n",
       "[5 rows x 25 columns]"
      ]
     },
     "execution_count": 53,
     "metadata": {},
     "output_type": "execute_result"
    }
   ],
   "source": [
    "df = pd.read_csv('COVID19_state.csv')\n",
    "df.head()"
   ]
  },
  {
   "cell_type": "code",
   "execution_count": 40,
   "metadata": {},
   "outputs": [],
   "source": [
    "y_cases = df['Infected']\n",
    "y_deaths = df['Deaths']\n",
    "demo = ['Gini', 'Population', 'Pop Density', 'Income Per Capita', 'GDP Per Capita', 'Unemployment', \n",
    "        'Sex Ratio', 'Med-Large Airports', 'Avg Temp', 'Urban', 'Age 0-25', 'Age 26-54', 'Age 55+']\n",
    "med = ['Population', 'Tested', 'ICU Beds', 'Sex Ratio', 'Smoking Rate', 'Flu Deaths', 'Respiratory Deaths', \n",
    "       'Physicians', 'Hospitals', 'Pollution', 'Health Spending', 'Age 0-25', 'Age 26-54', 'Age 55+']\n",
    "X_demo = df[demo]\n",
    "X_med = df[med]"
   ]
  },
  {
   "cell_type": "markdown",
   "metadata": {},
   "source": [
    "## Correlation"
   ]
  },
  {
   "cell_type": "code",
   "execution_count": 41,
   "metadata": {},
   "outputs": [],
   "source": [
    "def make_corr_map(df, title='Correlation Heat Map'):\n",
    "    corr = df.corr()\n",
    "    mask = np.triu(np.ones_like(corr, dtype=np.bool))\n",
    "    f, ax = plt.subplots(figsize=(11, 9))\n",
    "    cmap = sns.diverging_palette(240, 10, as_cmap=True)\n",
    "    sns.heatmap(corr, mask=mask, cmap=cmap, square=True, linewidths=.5, cbar_kws={\"shrink\": .5})\n",
    "    plt.title(title)\n",
    "    plt.show()"
   ]
  },
  {
   "cell_type": "code",
   "execution_count": 46,
   "metadata": {},
   "outputs": [
    {
     "data": {
      "image/png": "[encoded data removed]",
      "text/plain": [
       "<Figure size 792x648 with 2 Axes>"
      ]
     },
     "metadata": {
      "needs_background": "light"
     },
     "output_type": "display_data"
    }
   ],
   "source": [
    "make_corr_map(pd.concat([X_med, df['Deaths']], axis=1), 'Demographic Predictors Correlation')"
   ]
  },
  {
   "cell_type": "code",
   "execution_count": 51,
   "metadata": {},
   "outputs": [],
   "source": [
    "# plt.scatter(np.log(df['Deaths']), np.log(df['Age 55+']))\n",
    "# plt.xlabel('Deaths')\n",
    "# plt.ylabel('55+')\n",
    "# plt.show()"
   ]
  },
  {
   "cell_type": "code",
   "execution_count": 36,
   "metadata": {},
   "outputs": [
    {
     "data": {
      "image/png": "[encoded data removed]",
      "text/plain": [
       "<Figure size 792x648 with 2 Axes>"
      ]
     },
     "metadata": {
      "needs_background": "light"
     },
     "output_type": "display_data"
    }
   ],
   "source": [
    "make_corr_map(X_med, 'Medical Predictors Correlation')"
   ]
  },
  {
   "cell_type": "markdown",
   "metadata": {},
   "source": [
    "## Scaling"
   ]
  },
  {
   "cell_type": "code",
   "execution_count": null,
   "metadata": {},
   "outputs": [],
   "source": [
    "X_s = RobustScaler().fit_transform(X_demo)"
   ]
  },
  {
   "cell_type": "markdown",
   "metadata": {},
   "source": [
    "## XGBoost"
   ]
  },
  {
   "cell_type": "code",
   "execution_count": null,
   "metadata": {},
   "outputs": [],
   "source": [
    "xg_reg = xgb.XGBRegressor(objective ='reg:squarederror', colsample_bytree = 0.3, learning_rate = 0.1,\n",
    "                max_depth = 5, alpha = 10, n_estimators = 10)\n",
    "xg_reg.fit(X_s, y_cases)\n",
    "print('Score', xg_reg.score(X_s, y_cases))\n",
    "plt.figure(figsize=(10,5))\n",
    "plt.bar(X_demo.columns, xg_reg.feature_importances_)\n",
    "plt.xticks(fontsize=10, rotation=90)\n",
    "plt.show()"
   ]
  },
  {
   "cell_type": "markdown",
   "metadata": {},
   "source": [
    "## Random Forest"
   ]
  },
  {
   "cell_type": "code",
   "execution_count": null,
   "metadata": {},
   "outputs": [],
   "source": [
    "rfr = RandomForestRegressor(max_depth=3)\n",
    "rfr.fit(X_s, y_cases)\n",
    "print('score', rfr.score(X_s, y_cases), '\\n')\n",
    "plt.figure(figsize=(10,5))\n",
    "plt.bar(X_demo.columns, rfr.feature_importances_)\n",
    "plt.xticks(fontsize=10, rotation=90)\n",
    "plt.show()"
   ]
  },
  {
   "cell_type": "code",
   "execution_count": null,
   "metadata": {},
   "outputs": [],
   "source": [
    "plt.scatter(np.log(df['Infected']), df['Income Per Capita'])\n",
    "plt.xlabel('Infected')\n",
    "plt.ylabel('Income')\n",
    "plt.show()"
   ]
  },
  {
   "cell_type": "code",
   "execution_count": null,
   "metadata": {},
   "outputs": [],
   "source": [
    "# seaborn histogram\n",
    "sns.distplot(df['Income Per Capita'], hist=True, kde=False, \n",
    "             bins=10, color = 'blue',\n",
    "             hist_kws={'edgecolor':'black'})\n",
    "plt.show()"
   ]
  },
  {
   "cell_type": "markdown",
   "metadata": {},
   "source": [
    "# Next steps, remove highly correlated features or perform some sort of feature reduction"
   ]
  }
 ],
 "metadata": {
  "kernelspec": {
   "display_name": "Python 3",
   "language": "python",
   "name": "python3"
  },
  "language_info": {
   "codemirror_mode": {
    "name": "ipython",
    "version": 3
   },
   "file_extension": ".py",
   "mimetype": "text/x-python",
   "name": "python",
   "nbconvert_exporter": "python",
   "pygments_lexer": "ipython3",
   "version": "3.7.7"
  }
 },
 "nbformat": 4,
 "nbformat_minor": 4
}
